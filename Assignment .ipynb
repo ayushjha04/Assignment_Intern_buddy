{
 "cells": [
  {
   "cell_type": "code",
   "execution_count": 1,
   "metadata": {},
   "outputs": [],
   "source": [
    "import pandas as pd\n",
    "import numpy as np"
   ]
  },
  {
   "cell_type": "code",
   "execution_count": 2,
   "metadata": {},
   "outputs": [],
   "source": [
    "data = pd.read_excel(\"C:\\\\Users\\\\Administrator\\\\Desktop\\\\Machine Learning\\\\datasets\\\\mavo\\\\mavoix_ml_sample_dataset.xlsx\")"
   ]
  },
  {
   "cell_type": "code",
   "execution_count": 3,
   "metadata": {},
   "outputs": [
    {
     "data": {
      "text/html": [
       "<div>\n",
       "<style scoped>\n",
       "    .dataframe tbody tr th:only-of-type {\n",
       "        vertical-align: middle;\n",
       "    }\n",
       "\n",
       "    .dataframe tbody tr th {\n",
       "        vertical-align: top;\n",
       "    }\n",
       "\n",
       "    .dataframe thead th {\n",
       "        text-align: right;\n",
       "    }\n",
       "</style>\n",
       "<table border=\"1\" class=\"dataframe\">\n",
       "  <thead>\n",
       "    <tr style=\"text-align: right;\">\n",
       "      <th></th>\n",
       "      <th>Application_ID</th>\n",
       "      <th>Current City</th>\n",
       "      <th>Python (out of 3)</th>\n",
       "      <th>R Programming (out of 3)</th>\n",
       "      <th>Deep Learning (out of 3)</th>\n",
       "      <th>PHP (out of 3)</th>\n",
       "      <th>MySQL (out of 3)</th>\n",
       "      <th>HTML (out of 3)</th>\n",
       "      <th>CSS (out of 3)</th>\n",
       "      <th>JavaScript (out of 3)</th>\n",
       "      <th>...</th>\n",
       "      <th>Node.js (out of 3)</th>\n",
       "      <th>ReactJS (out of 3)</th>\n",
       "      <th>Other skills</th>\n",
       "      <th>Degree</th>\n",
       "      <th>Stream</th>\n",
       "      <th>Current Year Of Graduation</th>\n",
       "      <th>Performance_PG</th>\n",
       "      <th>Performance_UG</th>\n",
       "      <th>Performance_12</th>\n",
       "      <th>Performance_10</th>\n",
       "    </tr>\n",
       "  </thead>\n",
       "  <tbody>\n",
       "    <tr>\n",
       "      <th>0</th>\n",
       "      <td>ML0001</td>\n",
       "      <td>Bangalore</td>\n",
       "      <td>0</td>\n",
       "      <td>2</td>\n",
       "      <td>0</td>\n",
       "      <td>2</td>\n",
       "      <td>0</td>\n",
       "      <td>2</td>\n",
       "      <td>3</td>\n",
       "      <td>2</td>\n",
       "      <td>...</td>\n",
       "      <td>0</td>\n",
       "      <td>0</td>\n",
       "      <td>R Programming</td>\n",
       "      <td>Bachelor of Science (B.Sc)</td>\n",
       "      <td>Mathematics</td>\n",
       "      <td>2017</td>\n",
       "      <td>NaN</td>\n",
       "      <td>NaN</td>\n",
       "      <td>NaN</td>\n",
       "      <td>NaN</td>\n",
       "    </tr>\n",
       "    <tr>\n",
       "      <th>1</th>\n",
       "      <td>ML0002</td>\n",
       "      <td>Bangalore</td>\n",
       "      <td>2</td>\n",
       "      <td>0</td>\n",
       "      <td>0</td>\n",
       "      <td>2</td>\n",
       "      <td>2</td>\n",
       "      <td>2</td>\n",
       "      <td>2</td>\n",
       "      <td>2</td>\n",
       "      <td>...</td>\n",
       "      <td>0</td>\n",
       "      <td>0</td>\n",
       "      <td>Data Science, Machine Learning, Neural Network...</td>\n",
       "      <td>Bachelor of Technology (B.Tech)</td>\n",
       "      <td>Computer Science &amp; Engineering</td>\n",
       "      <td>2019</td>\n",
       "      <td>NaN</td>\n",
       "      <td>85.50/100</td>\n",
       "      <td>92.20/92.20</td>\n",
       "      <td>96.60/96.60</td>\n",
       "    </tr>\n",
       "    <tr>\n",
       "      <th>2</th>\n",
       "      <td>ML0003</td>\n",
       "      <td>Bangalore</td>\n",
       "      <td>3</td>\n",
       "      <td>0</td>\n",
       "      <td>1</td>\n",
       "      <td>2</td>\n",
       "      <td>2</td>\n",
       "      <td>2</td>\n",
       "      <td>0</td>\n",
       "      <td>2</td>\n",
       "      <td>...</td>\n",
       "      <td>0</td>\n",
       "      <td>0</td>\n",
       "      <td>Algorithms, Data Structures, Python, C Program...</td>\n",
       "      <td>Master of Science (M.Sc)</td>\n",
       "      <td>Computer  Science</td>\n",
       "      <td>2018</td>\n",
       "      <td>7.91/10</td>\n",
       "      <td>70.00/100</td>\n",
       "      <td>64.83/64.83</td>\n",
       "      <td>77.60/77.60</td>\n",
       "    </tr>\n",
       "    <tr>\n",
       "      <th>3</th>\n",
       "      <td>ML0004</td>\n",
       "      <td>Bangalore</td>\n",
       "      <td>2</td>\n",
       "      <td>0</td>\n",
       "      <td>2</td>\n",
       "      <td>1</td>\n",
       "      <td>0</td>\n",
       "      <td>2</td>\n",
       "      <td>0</td>\n",
       "      <td>0</td>\n",
       "      <td>...</td>\n",
       "      <td>0</td>\n",
       "      <td>0</td>\n",
       "      <td>CSS, Deep Learning, Embedded Systems, HTML, Ma...</td>\n",
       "      <td>Bachelor of Engineering (B.E)</td>\n",
       "      <td>Electronics and Communication</td>\n",
       "      <td>2019</td>\n",
       "      <td>NaN</td>\n",
       "      <td>6.86/10</td>\n",
       "      <td>76.00/76.00</td>\n",
       "      <td>84.32/84.32</td>\n",
       "    </tr>\n",
       "    <tr>\n",
       "      <th>4</th>\n",
       "      <td>ML0005</td>\n",
       "      <td>Bangalore</td>\n",
       "      <td>2</td>\n",
       "      <td>0</td>\n",
       "      <td>0</td>\n",
       "      <td>2</td>\n",
       "      <td>0</td>\n",
       "      <td>2</td>\n",
       "      <td>1</td>\n",
       "      <td>1</td>\n",
       "      <td>...</td>\n",
       "      <td>2</td>\n",
       "      <td>2</td>\n",
       "      <td>HTML, OpenCV, Python, SQL, C++ Programming, CS...</td>\n",
       "      <td>Bachelor of Technology (B.Tech)</td>\n",
       "      <td>Production Engineering</td>\n",
       "      <td>2018</td>\n",
       "      <td>NaN</td>\n",
       "      <td>6.38/10</td>\n",
       "      <td>65.20/65.20</td>\n",
       "      <td>68.80/68.80</td>\n",
       "    </tr>\n",
       "  </tbody>\n",
       "</table>\n",
       "<p>5 rows × 24 columns</p>\n",
       "</div>"
      ],
      "text/plain": [
       "  Application_ID Current City  Python (out of 3)  R Programming (out of 3)  \\\n",
       "0         ML0001    Bangalore                  0                         2   \n",
       "1         ML0002    Bangalore                  2                         0   \n",
       "2         ML0003    Bangalore                  3                         0   \n",
       "3         ML0004    Bangalore                  2                         0   \n",
       "4         ML0005    Bangalore                  2                         0   \n",
       "\n",
       "   Deep Learning (out of 3)  PHP (out of 3)  MySQL (out of 3)  \\\n",
       "0                         0               2                 0   \n",
       "1                         0               2                 2   \n",
       "2                         1               2                 2   \n",
       "3                         2               1                 0   \n",
       "4                         0               2                 0   \n",
       "\n",
       "   HTML (out of 3)  CSS (out of 3)  JavaScript (out of 3)  ...  \\\n",
       "0                2               3                      2  ...   \n",
       "1                2               2                      2  ...   \n",
       "2                2               0                      2  ...   \n",
       "3                2               0                      0  ...   \n",
       "4                2               1                      1  ...   \n",
       "\n",
       "   Node.js (out of 3)  ReactJS (out of 3)  \\\n",
       "0                   0                   0   \n",
       "1                   0                   0   \n",
       "2                   0                   0   \n",
       "3                   0                   0   \n",
       "4                   2                   2   \n",
       "\n",
       "                                        Other skills  \\\n",
       "0                                      R Programming   \n",
       "1  Data Science, Machine Learning, Neural Network...   \n",
       "2  Algorithms, Data Structures, Python, C Program...   \n",
       "3  CSS, Deep Learning, Embedded Systems, HTML, Ma...   \n",
       "4  HTML, OpenCV, Python, SQL, C++ Programming, CS...   \n",
       "\n",
       "                            Degree                          Stream  \\\n",
       "0       Bachelor of Science (B.Sc)                     Mathematics   \n",
       "1  Bachelor of Technology (B.Tech)  Computer Science & Engineering   \n",
       "2         Master of Science (M.Sc)               Computer  Science   \n",
       "3    Bachelor of Engineering (B.E)   Electronics and Communication   \n",
       "4  Bachelor of Technology (B.Tech)          Production Engineering   \n",
       "\n",
       "   Current Year Of Graduation Performance_PG Performance_UG Performance_12  \\\n",
       "0                        2017            NaN            NaN            NaN   \n",
       "1                        2019            NaN      85.50/100    92.20/92.20   \n",
       "2                        2018        7.91/10      70.00/100    64.83/64.83   \n",
       "3                        2019            NaN        6.86/10    76.00/76.00   \n",
       "4                        2018            NaN        6.38/10    65.20/65.20   \n",
       "\n",
       "   Performance_10  \n",
       "0             NaN  \n",
       "1     96.60/96.60  \n",
       "2     77.60/77.60  \n",
       "3     84.32/84.32  \n",
       "4     68.80/68.80  \n",
       "\n",
       "[5 rows x 24 columns]"
      ]
     },
     "execution_count": 3,
     "metadata": {},
     "output_type": "execute_result"
    }
   ],
   "source": [
    "data.head()"
   ]
  },
  {
   "cell_type": "code",
   "execution_count": 4,
   "metadata": {},
   "outputs": [
    {
     "name": "stdout",
     "output_type": "stream",
     "text": [
      "<class 'pandas.core.frame.DataFrame'>\n",
      "RangeIndex: 392 entries, 0 to 391\n",
      "Data columns (total 24 columns):\n",
      "Application_ID                392 non-null object\n",
      "Current City                  392 non-null object\n",
      "Python (out of 3)             392 non-null int64\n",
      "R Programming (out of 3)      392 non-null int64\n",
      "Deep Learning (out of 3)      392 non-null int64\n",
      "PHP (out of 3)                392 non-null int64\n",
      "MySQL (out of 3)              392 non-null int64\n",
      "HTML (out of 3)               392 non-null int64\n",
      "CSS (out of 3)                392 non-null int64\n",
      "JavaScript (out of 3)         392 non-null int64\n",
      "Unnamed: 10                   0 non-null float64\n",
      "AJAX (out of 3)               392 non-null int64\n",
      "Bootstrap (out of 3)          392 non-null int64\n",
      "MongoDB (out of 3)            392 non-null int64\n",
      "Node.js (out of 3)            392 non-null int64\n",
      "ReactJS (out of 3)            392 non-null int64\n",
      "Other skills                  378 non-null object\n",
      "Degree                        380 non-null object\n",
      "Stream                        374 non-null object\n",
      "Current Year Of Graduation    392 non-null int64\n",
      "Performance_PG                103 non-null object\n",
      "Performance_UG                338 non-null object\n",
      "Performance_12                229 non-null object\n",
      "Performance_10                215 non-null object\n",
      "dtypes: float64(1), int64(14), object(9)\n",
      "memory usage: 73.6+ KB\n"
     ]
    }
   ],
   "source": [
    "data.info()"
   ]
  },
  {
   "cell_type": "code",
   "execution_count": 5,
   "metadata": {},
   "outputs": [
    {
     "data": {
      "text/plain": [
       "24"
      ]
     },
     "execution_count": 5,
     "metadata": {},
     "output_type": "execute_result"
    }
   ],
   "source": [
    "len(data.columns) # no. of columns"
   ]
  },
  {
   "cell_type": "code",
   "execution_count": 6,
   "metadata": {},
   "outputs": [
    {
     "data": {
      "text/plain": [
       "0"
      ]
     },
     "execution_count": 6,
     "metadata": {},
     "output_type": "execute_result"
    }
   ],
   "source": [
    "data.duplicated(subset=None,keep='first').sum()  # checking the dublicates"
   ]
  },
  {
   "cell_type": "code",
   "execution_count": 7,
   "metadata": {},
   "outputs": [
    {
     "data": {
      "text/plain": [
       "Application_ID                  0\n",
       "Current City                    0\n",
       "Python (out of 3)               0\n",
       "R Programming (out of 3)        0\n",
       "Deep Learning (out of 3)        0\n",
       "PHP (out of 3)                  0\n",
       "MySQL (out of 3)                0\n",
       "HTML (out of 3)                 0\n",
       "CSS (out of 3)                  0\n",
       "JavaScript (out of 3)           0\n",
       "Unnamed: 10                   392\n",
       "AJAX (out of 3)                 0\n",
       "Bootstrap (out of 3)            0\n",
       "MongoDB (out of 3)              0\n",
       "Node.js (out of 3)              0\n",
       "ReactJS (out of 3)              0\n",
       "Other skills                   14\n",
       "Degree                         12\n",
       "Stream                         18\n",
       "Current Year Of Graduation      0\n",
       "Performance_PG                289\n",
       "Performance_UG                 54\n",
       "Performance_12                163\n",
       "Performance_10                177\n",
       "dtype: int64"
      ]
     },
     "execution_count": 7,
     "metadata": {},
     "output_type": "execute_result"
    }
   ],
   "source": [
    "data.isnull().sum()  # checking the no. of missing values in easch columns"
   ]
  },
  {
   "cell_type": "code",
   "execution_count": 8,
   "metadata": {},
   "outputs": [
    {
     "data": {
      "text/html": [
       "<div>\n",
       "<style scoped>\n",
       "    .dataframe tbody tr th:only-of-type {\n",
       "        vertical-align: middle;\n",
       "    }\n",
       "\n",
       "    .dataframe tbody tr th {\n",
       "        vertical-align: top;\n",
       "    }\n",
       "\n",
       "    .dataframe thead th {\n",
       "        text-align: right;\n",
       "    }\n",
       "</style>\n",
       "<table border=\"1\" class=\"dataframe\">\n",
       "  <thead>\n",
       "    <tr style=\"text-align: right;\">\n",
       "      <th></th>\n",
       "      <th>Application_ID</th>\n",
       "      <th>Current City</th>\n",
       "      <th>Python (out of 3)</th>\n",
       "      <th>R Programming (out of 3)</th>\n",
       "      <th>Deep Learning (out of 3)</th>\n",
       "      <th>PHP (out of 3)</th>\n",
       "      <th>MySQL (out of 3)</th>\n",
       "      <th>HTML (out of 3)</th>\n",
       "      <th>CSS (out of 3)</th>\n",
       "      <th>JavaScript (out of 3)</th>\n",
       "      <th>...</th>\n",
       "      <th>Node.js (out of 3)</th>\n",
       "      <th>ReactJS (out of 3)</th>\n",
       "      <th>Other skills</th>\n",
       "      <th>Degree</th>\n",
       "      <th>Stream</th>\n",
       "      <th>Current Year Of Graduation</th>\n",
       "      <th>Performance_PG</th>\n",
       "      <th>Performance_UG</th>\n",
       "      <th>Performance_12</th>\n",
       "      <th>Performance_10</th>\n",
       "    </tr>\n",
       "  </thead>\n",
       "  <tbody>\n",
       "    <tr>\n",
       "      <th>0</th>\n",
       "      <td>ML0001</td>\n",
       "      <td>Bangalore</td>\n",
       "      <td>0</td>\n",
       "      <td>2</td>\n",
       "      <td>0</td>\n",
       "      <td>2</td>\n",
       "      <td>0</td>\n",
       "      <td>2</td>\n",
       "      <td>3</td>\n",
       "      <td>2</td>\n",
       "      <td>...</td>\n",
       "      <td>0</td>\n",
       "      <td>0</td>\n",
       "      <td>R Programming</td>\n",
       "      <td>Bachelor of Science (B.Sc)</td>\n",
       "      <td>Mathematics</td>\n",
       "      <td>2017</td>\n",
       "      <td>NaN</td>\n",
       "      <td>NaN</td>\n",
       "      <td>NaN</td>\n",
       "      <td>NaN</td>\n",
       "    </tr>\n",
       "    <tr>\n",
       "      <th>1</th>\n",
       "      <td>ML0002</td>\n",
       "      <td>Bangalore</td>\n",
       "      <td>2</td>\n",
       "      <td>0</td>\n",
       "      <td>0</td>\n",
       "      <td>2</td>\n",
       "      <td>2</td>\n",
       "      <td>2</td>\n",
       "      <td>2</td>\n",
       "      <td>2</td>\n",
       "      <td>...</td>\n",
       "      <td>0</td>\n",
       "      <td>0</td>\n",
       "      <td>Data Science, Machine Learning, Neural Network...</td>\n",
       "      <td>Bachelor of Technology (B.Tech)</td>\n",
       "      <td>Computer Science &amp; Engineering</td>\n",
       "      <td>2019</td>\n",
       "      <td>NaN</td>\n",
       "      <td>85.50/100</td>\n",
       "      <td>92.20/92.20</td>\n",
       "      <td>96.60/96.60</td>\n",
       "    </tr>\n",
       "    <tr>\n",
       "      <th>2</th>\n",
       "      <td>ML0003</td>\n",
       "      <td>Bangalore</td>\n",
       "      <td>3</td>\n",
       "      <td>0</td>\n",
       "      <td>1</td>\n",
       "      <td>2</td>\n",
       "      <td>2</td>\n",
       "      <td>2</td>\n",
       "      <td>0</td>\n",
       "      <td>2</td>\n",
       "      <td>...</td>\n",
       "      <td>0</td>\n",
       "      <td>0</td>\n",
       "      <td>Algorithms, Data Structures, Python, C Program...</td>\n",
       "      <td>Master of Science (M.Sc)</td>\n",
       "      <td>Computer  Science</td>\n",
       "      <td>2018</td>\n",
       "      <td>7.91/10</td>\n",
       "      <td>70.00/100</td>\n",
       "      <td>64.83/64.83</td>\n",
       "      <td>77.60/77.60</td>\n",
       "    </tr>\n",
       "    <tr>\n",
       "      <th>3</th>\n",
       "      <td>ML0004</td>\n",
       "      <td>Bangalore</td>\n",
       "      <td>2</td>\n",
       "      <td>0</td>\n",
       "      <td>2</td>\n",
       "      <td>1</td>\n",
       "      <td>0</td>\n",
       "      <td>2</td>\n",
       "      <td>0</td>\n",
       "      <td>0</td>\n",
       "      <td>...</td>\n",
       "      <td>0</td>\n",
       "      <td>0</td>\n",
       "      <td>CSS, Deep Learning, Embedded Systems, HTML, Ma...</td>\n",
       "      <td>Bachelor of Engineering (B.E)</td>\n",
       "      <td>Electronics and Communication</td>\n",
       "      <td>2019</td>\n",
       "      <td>NaN</td>\n",
       "      <td>6.86/10</td>\n",
       "      <td>76.00/76.00</td>\n",
       "      <td>84.32/84.32</td>\n",
       "    </tr>\n",
       "    <tr>\n",
       "      <th>4</th>\n",
       "      <td>ML0005</td>\n",
       "      <td>Bangalore</td>\n",
       "      <td>2</td>\n",
       "      <td>0</td>\n",
       "      <td>0</td>\n",
       "      <td>2</td>\n",
       "      <td>0</td>\n",
       "      <td>2</td>\n",
       "      <td>1</td>\n",
       "      <td>1</td>\n",
       "      <td>...</td>\n",
       "      <td>2</td>\n",
       "      <td>2</td>\n",
       "      <td>HTML, OpenCV, Python, SQL, C++ Programming, CS...</td>\n",
       "      <td>Bachelor of Technology (B.Tech)</td>\n",
       "      <td>Production Engineering</td>\n",
       "      <td>2018</td>\n",
       "      <td>NaN</td>\n",
       "      <td>6.38/10</td>\n",
       "      <td>65.20/65.20</td>\n",
       "      <td>68.80/68.80</td>\n",
       "    </tr>\n",
       "    <tr>\n",
       "      <th>...</th>\n",
       "      <td>...</td>\n",
       "      <td>...</td>\n",
       "      <td>...</td>\n",
       "      <td>...</td>\n",
       "      <td>...</td>\n",
       "      <td>...</td>\n",
       "      <td>...</td>\n",
       "      <td>...</td>\n",
       "      <td>...</td>\n",
       "      <td>...</td>\n",
       "      <td>...</td>\n",
       "      <td>...</td>\n",
       "      <td>...</td>\n",
       "      <td>...</td>\n",
       "      <td>...</td>\n",
       "      <td>...</td>\n",
       "      <td>...</td>\n",
       "      <td>...</td>\n",
       "      <td>...</td>\n",
       "      <td>...</td>\n",
       "      <td>...</td>\n",
       "    </tr>\n",
       "    <tr>\n",
       "      <th>387</th>\n",
       "      <td>ML0388</td>\n",
       "      <td>Hyderabad</td>\n",
       "      <td>2</td>\n",
       "      <td>1</td>\n",
       "      <td>0</td>\n",
       "      <td>0</td>\n",
       "      <td>0</td>\n",
       "      <td>2</td>\n",
       "      <td>0</td>\n",
       "      <td>0</td>\n",
       "      <td>...</td>\n",
       "      <td>0</td>\n",
       "      <td>0</td>\n",
       "      <td>Database Management System (DBMS), HTML, Pytho...</td>\n",
       "      <td>Bachelor of Technology (B.Tech)</td>\n",
       "      <td>Computer Science &amp; Engineering</td>\n",
       "      <td>2020</td>\n",
       "      <td>NaN</td>\n",
       "      <td>75.00/100</td>\n",
       "      <td>NaN</td>\n",
       "      <td>NaN</td>\n",
       "    </tr>\n",
       "    <tr>\n",
       "      <th>388</th>\n",
       "      <td>ML0389</td>\n",
       "      <td>Bangalore</td>\n",
       "      <td>2</td>\n",
       "      <td>0</td>\n",
       "      <td>0</td>\n",
       "      <td>2</td>\n",
       "      <td>0</td>\n",
       "      <td>2</td>\n",
       "      <td>2</td>\n",
       "      <td>1</td>\n",
       "      <td>...</td>\n",
       "      <td>0</td>\n",
       "      <td>0</td>\n",
       "      <td>CSS, Cloud Computing, HTML, PHP, Python, Andro...</td>\n",
       "      <td>Master of Computer Applications (MCA)</td>\n",
       "      <td>Computer Application</td>\n",
       "      <td>2020</td>\n",
       "      <td>7.78/10</td>\n",
       "      <td>6.80/10</td>\n",
       "      <td>NaN</td>\n",
       "      <td>NaN</td>\n",
       "    </tr>\n",
       "    <tr>\n",
       "      <th>389</th>\n",
       "      <td>ML0390</td>\n",
       "      <td>Nagpur</td>\n",
       "      <td>1</td>\n",
       "      <td>0</td>\n",
       "      <td>0</td>\n",
       "      <td>0</td>\n",
       "      <td>0</td>\n",
       "      <td>2</td>\n",
       "      <td>2</td>\n",
       "      <td>1</td>\n",
       "      <td>...</td>\n",
       "      <td>0</td>\n",
       "      <td>0</td>\n",
       "      <td>CSS, HTML, JavaScript, Python</td>\n",
       "      <td>Bachelor of Engineering (B.E)</td>\n",
       "      <td>Electronics and Telecommunication Engineering ...</td>\n",
       "      <td>2020</td>\n",
       "      <td>NaN</td>\n",
       "      <td>6.10/10</td>\n",
       "      <td>62.62/62.62</td>\n",
       "      <td>NaN</td>\n",
       "    </tr>\n",
       "    <tr>\n",
       "      <th>390</th>\n",
       "      <td>ML0391</td>\n",
       "      <td>Kanpur</td>\n",
       "      <td>2</td>\n",
       "      <td>2</td>\n",
       "      <td>0</td>\n",
       "      <td>0</td>\n",
       "      <td>0</td>\n",
       "      <td>0</td>\n",
       "      <td>0</td>\n",
       "      <td>0</td>\n",
       "      <td>...</td>\n",
       "      <td>0</td>\n",
       "      <td>0</td>\n",
       "      <td>Android, C Programming, C++ Programming, Pytho...</td>\n",
       "      <td>Bachelor of Technology (B.Tech)</td>\n",
       "      <td>Computer Science &amp; Engineering</td>\n",
       "      <td>2020</td>\n",
       "      <td>NaN</td>\n",
       "      <td>6.50/10</td>\n",
       "      <td>62.50/62.50</td>\n",
       "      <td>76.50/76.50</td>\n",
       "    </tr>\n",
       "    <tr>\n",
       "      <th>391</th>\n",
       "      <td>ML0392</td>\n",
       "      <td>Durgapur</td>\n",
       "      <td>2</td>\n",
       "      <td>3</td>\n",
       "      <td>0</td>\n",
       "      <td>2</td>\n",
       "      <td>0</td>\n",
       "      <td>2</td>\n",
       "      <td>2</td>\n",
       "      <td>3</td>\n",
       "      <td>...</td>\n",
       "      <td>0</td>\n",
       "      <td>0</td>\n",
       "      <td>C Programming, C++ Programming, JavaScript, CS...</td>\n",
       "      <td>Master of Computer Applications (MCA)</td>\n",
       "      <td>Computer Application</td>\n",
       "      <td>2020</td>\n",
       "      <td>6.40/10</td>\n",
       "      <td>63.06/100</td>\n",
       "      <td>64.00/64.00</td>\n",
       "      <td>64.60/64.60</td>\n",
       "    </tr>\n",
       "  </tbody>\n",
       "</table>\n",
       "<p>392 rows × 24 columns</p>\n",
       "</div>"
      ],
      "text/plain": [
       "    Application_ID Current City  Python (out of 3)  R Programming (out of 3)  \\\n",
       "0           ML0001    Bangalore                  0                         2   \n",
       "1           ML0002    Bangalore                  2                         0   \n",
       "2           ML0003    Bangalore                  3                         0   \n",
       "3           ML0004    Bangalore                  2                         0   \n",
       "4           ML0005    Bangalore                  2                         0   \n",
       "..             ...          ...                ...                       ...   \n",
       "387         ML0388    Hyderabad                  2                         1   \n",
       "388         ML0389    Bangalore                  2                         0   \n",
       "389         ML0390       Nagpur                  1                         0   \n",
       "390         ML0391       Kanpur                  2                         2   \n",
       "391         ML0392     Durgapur                  2                         3   \n",
       "\n",
       "     Deep Learning (out of 3)  PHP (out of 3)  MySQL (out of 3)  \\\n",
       "0                           0               2                 0   \n",
       "1                           0               2                 2   \n",
       "2                           1               2                 2   \n",
       "3                           2               1                 0   \n",
       "4                           0               2                 0   \n",
       "..                        ...             ...               ...   \n",
       "387                         0               0                 0   \n",
       "388                         0               2                 0   \n",
       "389                         0               0                 0   \n",
       "390                         0               0                 0   \n",
       "391                         0               2                 0   \n",
       "\n",
       "     HTML (out of 3)  CSS (out of 3)  JavaScript (out of 3)  ...  \\\n",
       "0                  2               3                      2  ...   \n",
       "1                  2               2                      2  ...   \n",
       "2                  2               0                      2  ...   \n",
       "3                  2               0                      0  ...   \n",
       "4                  2               1                      1  ...   \n",
       "..               ...             ...                    ...  ...   \n",
       "387                2               0                      0  ...   \n",
       "388                2               2                      1  ...   \n",
       "389                2               2                      1  ...   \n",
       "390                0               0                      0  ...   \n",
       "391                2               2                      3  ...   \n",
       "\n",
       "     Node.js (out of 3)  ReactJS (out of 3)  \\\n",
       "0                     0                   0   \n",
       "1                     0                   0   \n",
       "2                     0                   0   \n",
       "3                     0                   0   \n",
       "4                     2                   2   \n",
       "..                  ...                 ...   \n",
       "387                   0                   0   \n",
       "388                   0                   0   \n",
       "389                   0                   0   \n",
       "390                   0                   0   \n",
       "391                   0                   0   \n",
       "\n",
       "                                          Other skills  \\\n",
       "0                                        R Programming   \n",
       "1    Data Science, Machine Learning, Neural Network...   \n",
       "2    Algorithms, Data Structures, Python, C Program...   \n",
       "3    CSS, Deep Learning, Embedded Systems, HTML, Ma...   \n",
       "4    HTML, OpenCV, Python, SQL, C++ Programming, CS...   \n",
       "..                                                 ...   \n",
       "387  Database Management System (DBMS), HTML, Pytho...   \n",
       "388  CSS, Cloud Computing, HTML, PHP, Python, Andro...   \n",
       "389                      CSS, HTML, JavaScript, Python   \n",
       "390  Android, C Programming, C++ Programming, Pytho...   \n",
       "391  C Programming, C++ Programming, JavaScript, CS...   \n",
       "\n",
       "                                    Degree  \\\n",
       "0               Bachelor of Science (B.Sc)   \n",
       "1          Bachelor of Technology (B.Tech)   \n",
       "2                 Master of Science (M.Sc)   \n",
       "3            Bachelor of Engineering (B.E)   \n",
       "4          Bachelor of Technology (B.Tech)   \n",
       "..                                     ...   \n",
       "387        Bachelor of Technology (B.Tech)   \n",
       "388  Master of Computer Applications (MCA)   \n",
       "389          Bachelor of Engineering (B.E)   \n",
       "390        Bachelor of Technology (B.Tech)   \n",
       "391  Master of Computer Applications (MCA)   \n",
       "\n",
       "                                                Stream  \\\n",
       "0                                          Mathematics   \n",
       "1                       Computer Science & Engineering   \n",
       "2                                    Computer  Science   \n",
       "3                        Electronics and Communication   \n",
       "4                               Production Engineering   \n",
       "..                                                 ...   \n",
       "387                     Computer Science & Engineering   \n",
       "388                               Computer Application   \n",
       "389  Electronics and Telecommunication Engineering ...   \n",
       "390                     Computer Science & Engineering   \n",
       "391                               Computer Application   \n",
       "\n",
       "     Current Year Of Graduation Performance_PG Performance_UG Performance_12  \\\n",
       "0                          2017            NaN            NaN            NaN   \n",
       "1                          2019            NaN      85.50/100    92.20/92.20   \n",
       "2                          2018        7.91/10      70.00/100    64.83/64.83   \n",
       "3                          2019            NaN        6.86/10    76.00/76.00   \n",
       "4                          2018            NaN        6.38/10    65.20/65.20   \n",
       "..                          ...            ...            ...            ...   \n",
       "387                        2020            NaN      75.00/100            NaN   \n",
       "388                        2020        7.78/10        6.80/10            NaN   \n",
       "389                        2020            NaN        6.10/10    62.62/62.62   \n",
       "390                        2020            NaN        6.50/10    62.50/62.50   \n",
       "391                        2020        6.40/10      63.06/100    64.00/64.00   \n",
       "\n",
       "     Performance_10  \n",
       "0               NaN  \n",
       "1       96.60/96.60  \n",
       "2       77.60/77.60  \n",
       "3       84.32/84.32  \n",
       "4       68.80/68.80  \n",
       "..              ...  \n",
       "387             NaN  \n",
       "388             NaN  \n",
       "389             NaN  \n",
       "390     76.50/76.50  \n",
       "391     64.60/64.60  \n",
       "\n",
       "[392 rows x 24 columns]"
      ]
     },
     "execution_count": 8,
     "metadata": {},
     "output_type": "execute_result"
    }
   ],
   "source": [
    "data[data.isnull()==False]"
   ]
  },
  {
   "cell_type": "code",
   "execution_count": 9,
   "metadata": {},
   "outputs": [
    {
     "data": {
      "text/plain": [
       "array(['Bachelor of Science (B.Sc)', 'Bachelor of Technology (B.Tech)',\n",
       "       'Master of Science (M.Sc)', 'Bachelor of Engineering (B.E)', nan,\n",
       "       'PG Diploma in Data Science', 'Post Graduate Programme (PGP)',\n",
       "       'Post Graduate Diploma', 'Master of Computer Applications (MCA)',\n",
       "       'Master of Technology (M.Tech)', 'Executive MBA', 'MBA',\n",
       "       'B.Tech (Hons.)',\n",
       "       'Post Graduate Diploma in Big Data Analytics (PG-DBDA)',\n",
       "       'Bachelor of Commerce (B.Com)',\n",
       "       'Bachelor of Engineering (B.E) (Hons.)',\n",
       "       'Bachelor of Computer Applications (BCA)', 'Integrated M.Sc.',\n",
       "       'Bachelor of Business Management (B.B.M.)',\n",
       "       'Bachelor of Commerce (B.Com) (Hons.)',\n",
       "       'Post Graduate Diploma in Management (P.G.D.M.)',\n",
       "       'Integrated B.Tech & M.Tech', 'Master of Science (M.S.)',\n",
       "       'Post Graduate Program in Business Analytics',\n",
       "       'Bachelor of Computer Science (B.C.S.)', 'Integrated B.Tech',\n",
       "       'Master of Science (M.Sc) (Hons.)', 'Integrated M.Tech',\n",
       "       'B.Com. Professional',\n",
       "       'Bachelor of Business Administration (B.B.A.)',\n",
       "       'Bachelor of Arts (B.A.) (Hons.)', 'Integrated B.E & M.Tech'],\n",
       "      dtype=object)"
      ]
     },
     "execution_count": 9,
     "metadata": {},
     "output_type": "execute_result"
    }
   ],
   "source": [
    "data[\"Degree\"].unique()"
   ]
  },
  {
   "cell_type": "code",
   "execution_count": null,
   "metadata": {},
   "outputs": [],
   "source": []
  },
  {
   "cell_type": "code",
   "execution_count": 10,
   "metadata": {},
   "outputs": [
    {
     "data": {
      "text/plain": [
       "array([nan, '7.91/10', '3.61/4', '8.00/10', '71.00/100', '79.00/100',\n",
       "       '5.60/10', '3.76/4', '9.00/10', '8.35/10', '76.70/100',\n",
       "       '74.00/100', '75.00/100', '58.00/100', '61.00/100', '8.06/10',\n",
       "       '60.00/100', '6.00/7', '7.30/10', '7.00/7', '7.57/10', '8.91/10',\n",
       "       '8.30/10', '7.17/10', '7.80/10', '69.00/100', '5.19/100',\n",
       "       '65.00/100', '8.30/100', '7.88/10', '73.00/100', '70.00/100',\n",
       "       '9.43/10', '65.30/100', '6.00/10', '9.30/10', '77.90/100',\n",
       "       '7.50/10', '8.68/10', '7.00/10', '7.60/10', '69.80/100',\n",
       "       '63.20/100', '7.15/10', '7.77/10', '7.02/10', '6.33/10', '6.20/10',\n",
       "       '8.74/10', '8.02/10', '7.08/10', '8.10/10', '66.00/100',\n",
       "       '67.00/100', '6.35/10', '71.60/100', '6.50/7', '7.78/10',\n",
       "       '6.40/10', '7.70/10', '8.18/10', '7.75/10', '7.06/10', '9.08/10',\n",
       "       '8.45/10', '80.00/100', '8.41/10'], dtype=object)"
      ]
     },
     "execution_count": 10,
     "metadata": {},
     "output_type": "execute_result"
    }
   ],
   "source": [
    "data[\"Performance_PG\"].unique()"
   ]
  },
  {
   "cell_type": "markdown",
   "metadata": {},
   "source": [
    "#### working on Performance_PG "
   ]
  },
  {
   "cell_type": "code",
   "execution_count": 11,
   "metadata": {},
   "outputs": [],
   "source": [
    "data[\"Performance_PG\"].fillna(\"0/0\",inplace=True)\n",
    "\n",
    "data[\"Performance_PG_Got\"]=data[\"Performance_PG\"].str.split(\"/\",expand=True)[0]\n",
    "data[\"Performance_PG_outoff\"]=data[\"Performance_PG\"].str.split(\"/\",expand=True)[1]\n",
    "\n",
    "data[\"Performance_PG_Got\"]=data[\"Performance_PG_Got\"].astype(float)\n",
    "data[\"Performance_PG_outoff\"]=data[\"Performance_PG_outoff\"].astype(float)\n",
    "\n",
    "data[\"Performance_PG_percentage\"] = (data[\"Performance_PG_Got\"] /data[\"Performance_PG_outoff\"])*100\n",
    "\n",
    "data[\"Performance_PG_percentage\"] = data[\"Performance_PG_percentage\"].fillna(0)\n",
    "\n",
    "# dropig the columns..of pg\n",
    "\n",
    "data.drop(['Performance_PG','Performance_PG_Got','Performance_PG_outoff'],axis=1,inplace=True)"
   ]
  },
  {
   "cell_type": "code",
   "execution_count": 12,
   "metadata": {},
   "outputs": [
    {
     "data": {
      "text/plain": [
       "289"
      ]
     },
     "execution_count": 12,
     "metadata": {},
     "output_type": "execute_result"
    }
   ],
   "source": [
    "data[\"Performance_PG_percentage\"][data[\"Performance_PG_percentage\"]==0.0].count()"
   ]
  },
  {
   "cell_type": "code",
   "execution_count": null,
   "metadata": {},
   "outputs": [],
   "source": []
  },
  {
   "cell_type": "markdown",
   "metadata": {},
   "source": [
    "#### working on Performance_UG "
   ]
  },
  {
   "cell_type": "code",
   "execution_count": 13,
   "metadata": {},
   "outputs": [],
   "source": [
    "data[\"Performance_UG\"].fillna(\"0/0\",inplace=True)\n",
    "\n",
    "data[\"Performance_UG_Got\"]=data[\"Performance_UG\"].str.split(\"/\",expand=True)[0]\n",
    "data[\"Performance_UG_outoff\"]=data[\"Performance_UG\"].str.split(\"/\",expand=True)[1]\n",
    "\n",
    "data[\"Performance_UG_Got\"]=data[\"Performance_UG_Got\"].astype(float)\n",
    "data[\"Performance_UG_outoff\"]=data[\"Performance_UG_outoff\"].astype(float)\n",
    "\n",
    "data[\"Performance_UG_percentage\"] = (data[\"Performance_UG_Got\"] /data[\"Performance_UG_outoff\"])*100\n",
    "\n",
    "data[\"Performance_UG_percentage\"] = data[\"Performance_UG_percentage\"].fillna(0)\n",
    "\n",
    "# dropig the columns..of ug\n",
    "\n",
    "data.drop(['Performance_UG','Performance_UG_Got','Performance_UG_outoff'],axis=1,inplace=True)"
   ]
  },
  {
   "cell_type": "code",
   "execution_count": 14,
   "metadata": {},
   "outputs": [
    {
     "data": {
      "text/plain": [
       "54"
      ]
     },
     "execution_count": 14,
     "metadata": {},
     "output_type": "execute_result"
    }
   ],
   "source": [
    "data[\"Performance_UG_percentage\"][data[\"Performance_UG_percentage\"]==0.0].count()"
   ]
  },
  {
   "cell_type": "code",
   "execution_count": 15,
   "metadata": {},
   "outputs": [
    {
     "data": {
      "text/html": [
       "<div>\n",
       "<style scoped>\n",
       "    .dataframe tbody tr th:only-of-type {\n",
       "        vertical-align: middle;\n",
       "    }\n",
       "\n",
       "    .dataframe tbody tr th {\n",
       "        vertical-align: top;\n",
       "    }\n",
       "\n",
       "    .dataframe thead th {\n",
       "        text-align: right;\n",
       "    }\n",
       "</style>\n",
       "<table border=\"1\" class=\"dataframe\">\n",
       "  <thead>\n",
       "    <tr style=\"text-align: right;\">\n",
       "      <th></th>\n",
       "      <th>Performance_UG_percentage</th>\n",
       "      <th>Degree</th>\n",
       "    </tr>\n",
       "  </thead>\n",
       "  <tbody>\n",
       "    <tr>\n",
       "      <th>0</th>\n",
       "      <td>0.0</td>\n",
       "      <td>Bachelor of Science (B.Sc)</td>\n",
       "    </tr>\n",
       "    <tr>\n",
       "      <th>20</th>\n",
       "      <td>0.0</td>\n",
       "      <td>Master of Computer Applications (MCA)</td>\n",
       "    </tr>\n",
       "    <tr>\n",
       "      <th>23</th>\n",
       "      <td>0.0</td>\n",
       "      <td>Bachelor of Technology (B.Tech)</td>\n",
       "    </tr>\n",
       "    <tr>\n",
       "      <th>55</th>\n",
       "      <td>0.0</td>\n",
       "      <td>B.Tech (Hons.)</td>\n",
       "    </tr>\n",
       "    <tr>\n",
       "      <th>60</th>\n",
       "      <td>0.0</td>\n",
       "      <td>Bachelor of Technology (B.Tech)</td>\n",
       "    </tr>\n",
       "  </tbody>\n",
       "</table>\n",
       "</div>"
      ],
      "text/plain": [
       "    Performance_UG_percentage                                 Degree\n",
       "0                         0.0             Bachelor of Science (B.Sc)\n",
       "20                        0.0  Master of Computer Applications (MCA)\n",
       "23                        0.0        Bachelor of Technology (B.Tech)\n",
       "55                        0.0                         B.Tech (Hons.)\n",
       "60                        0.0        Bachelor of Technology (B.Tech)"
      ]
     },
     "execution_count": 15,
     "metadata": {},
     "output_type": "execute_result"
    }
   ],
   "source": [
    "data[[\"Performance_UG_percentage\",\"Degree\"]][data[\"Performance_UG_percentage\"]==0].head()"
   ]
  },
  {
   "cell_type": "code",
   "execution_count": null,
   "metadata": {},
   "outputs": [],
   "source": []
  },
  {
   "cell_type": "markdown",
   "metadata": {},
   "source": [
    "#### working on Performance_12"
   ]
  },
  {
   "cell_type": "code",
   "execution_count": 16,
   "metadata": {},
   "outputs": [
    {
     "data": {
      "text/plain": [
       "array([nan, '92.20/92.20', '64.83/64.83', '76.00/76.00', '65.20/65.20',\n",
       "       '85.00/85.00', '70.00/70.00', '71.00/71.00', '95.00/95.00',\n",
       "       '89.60/89.60', '88.10/88.10', '69.50/69.50', '9.20/9.20',\n",
       "       '84.50/84.50', '80.50/80.50', '95.60/95.60', '84.30/84.30',\n",
       "       '72.00/72.00', '80.00/80.00', '77.16/77.16', '82.50/82.50',\n",
       "       '82.30/82.30', '93.00/93.00', '72.83/72.83', '65.30/65.30',\n",
       "       '82.60/82.60', '58.40/58.40', '94.25/94.25', '67.00/67.00',\n",
       "       '57.40/57.40', '98.00/98.00', '6.56/6.56', '7.20/7.20',\n",
       "       '69.00/69.00', '70.27/70.27', '54.31/54.31', '86.60/86.60',\n",
       "       '83.60/83.60', '89.00/89.00', '8.20/8.20', '7.90/7.90',\n",
       "       '76.80/76.80', '83.00/83.00', '74.60/74.60', '96.40/96.40',\n",
       "       '84.60/84.60', '68.40/68.40', '53.00/53.00', '60.00/60.00',\n",
       "       '8.59/8.59', '76.33/76.33', '65.40/65.40', '51.00/51.00',\n",
       "       '73.00/73.00', '79.00/79.00', '7.00/7.00', '76.02/76.02',\n",
       "       '75.00/75.00', '91.00/91.00', '67.70/67.70', '86.70/86.70',\n",
       "       '78.00/78.00', '63.00/63.00', '82.20/82.20', '86.80/86.80',\n",
       "       '8.00/8.00', '49.00/49.00', '74.00/74.00', '78.40/78.40',\n",
       "       '56.00/56.00', '82.00/82.00', '92.50/92.50', '7.60/7.60',\n",
       "       '76.70/76.70', '83.16/83.16', '86.00/86.00', '71.50/71.50',\n",
       "       '68.00/68.00', '90.00/90.00', '74.80/74.80', '6.30/6.30',\n",
       "       '7.80/7.80', '85.60/85.60', '86.50/86.50', '80.62/80.62',\n",
       "       '85.67/85.67', '86.20/86.20', '82.75/82.75', '91.20/91.20',\n",
       "       '83.30/83.30', '94.80/94.80', '96.70/96.70', '97.25/97.25',\n",
       "       '58.00/58.00', '8.60/8.60', '88.00/88.00', '8.26/8.26',\n",
       "       '58.60/58.60', '5.00/5.00', '92.00/92.00', '75.40/75.40',\n",
       "       '62.60/62.60', '59.80/59.80', '84.00/84.00', '78.68/78.68',\n",
       "       '59.00/59.00', '7.47/7.47', '92.40/92.40', '57.00/57.00',\n",
       "       '60.80/60.80', '79.20/79.20', '58.20/58.20', '66.00/66.00',\n",
       "       '50.00/50.00', '95.40/95.40', '64.00/64.00', '75.60/75.60',\n",
       "       '55.40/55.40', '51.60/51.60', '53.80/53.80', '60.30/60.30',\n",
       "       '4.00/4.00', '62.62/62.62', '62.50/62.50', '77.20/77.20',\n",
       "       '62.90/62.90', '71.20/71.20', '78.80/78.80', '64.20/64.20',\n",
       "       '65.00/65.00', '87.00/87.00', '62.80/62.80', '6.80/6.80',\n",
       "       '62.02/62.02', '55.00/55.00', '84.12/84.12', '86.83/86.83',\n",
       "       '77.00/77.00', '85.40/85.40', '78.10/78.10', '92.70/92.70',\n",
       "       '90.50/90.50', '90.75/90.75', '54.00/54.00'], dtype=object)"
      ]
     },
     "execution_count": 16,
     "metadata": {},
     "output_type": "execute_result"
    }
   ],
   "source": [
    "data[\"Performance_12\"].unique()"
   ]
  },
  {
   "cell_type": "code",
   "execution_count": 17,
   "metadata": {},
   "outputs": [],
   "source": [
    "data[\"Performance_12\"].fillna(\"0/0\",inplace=True)\n",
    "data[\"Performance_12_percentage\"]=data[\"Performance_12\"].str.split(\"/\",expand=True)[0]\n",
    "\n",
    "data[\"Performance_12_percentage\"]=data[\"Performance_12_percentage\"].astype(str)\n",
    "\n",
    "data[\"Performance_12_percentage\"]=data[\"Performance_12_percentage\"].apply( lambda x: x.replace('.',('')))\n",
    "\n",
    "c=[]\n",
    "for i in data[\"Performance_12_percentage\"]:\n",
    "    c.append(i[:2]+\".\"+i[2:])\n",
    "\n"
   ]
  },
  {
   "cell_type": "code",
   "execution_count": 18,
   "metadata": {},
   "outputs": [],
   "source": [
    "new=pd.DataFrame(c)\n",
    "data=pd.concat([data,new],axis=1)\n",
    "data=data.rename(columns={0:\"Performance_12_percentage1\"})\n",
    "\n",
    "data.drop([\"Performance_12\",\"Performance_12_percentage\"],axis=1,inplace=True)\n",
    "data[\"Performance_12_percentage1\"]=data[\"Performance_12_percentage1\"].astype(float)"
   ]
  },
  {
   "cell_type": "markdown",
   "metadata": {},
   "source": [
    "#### working on Performance_10"
   ]
  },
  {
   "cell_type": "code",
   "execution_count": 19,
   "metadata": {},
   "outputs": [
    {
     "data": {
      "text/plain": [
       "array([nan, '96.60/96.60', '77.60/77.60', '84.32/84.32', '68.80/68.80',\n",
       "       '80.00/80.00', '93.00/93.00', '8.80/8.80', '72.60/72.60',\n",
       "       '9.50/9.50', '97.20/97.20', '89.00/89.00', '85.85/85.85',\n",
       "       '10.00/10.00', '76.00/76.00', '81.00/81.00', '71.52/71.52',\n",
       "       '8.50/8.50', '8.40/8.40', '87.68/87.68', '87.00/87.00',\n",
       "       '9.20/9.20', '79.40/79.40', '96.20/96.20', '84.00/84.00',\n",
       "       '66.20/66.20', '7.42/7.42', '8.70/8.70', '79.80/79.80',\n",
       "       '75.45/75.45', '81.50/81.50', '9.80/9.80', '79.81/79.81',\n",
       "       '8.00/8.00', '9.30/9.30', '84.50/84.50', '75.00/75.00',\n",
       "       '73.00/73.00', '87.60/87.60', '64.60/64.60', '67.00/67.00',\n",
       "       '74.40/74.40', '9.00/9.00', '79.53/79.53', '7.80/7.80',\n",
       "       '7.40/7.40', '87.04/87.04', '82.00/82.00', '82.10/82.10',\n",
       "       '68.70/68.70', '8.20/8.20', '82.20/82.20', '82.33/82.33',\n",
       "       '86.72/86.72', '64.00/64.00', '63.00/63.00', '88.00/88.00',\n",
       "       '95.60/95.60', '8.10/8.10', '89.82/89.82', '68.16/68.16',\n",
       "       '86.40/86.40', '70.00/70.00', '86.80/86.80', '6.20/6.20',\n",
       "       '9.40/9.40', '91.20/91.20', '85.61/85.61', '95.20/95.20',\n",
       "       '67.50/67.50', '86.00/86.00', '92.00/92.00', '93.30/93.30',\n",
       "       '94.20/94.20', '65.00/65.00', '9.70/9.70', '71.83/71.83',\n",
       "       '62.00/62.00', '7.20/7.20', '73.50/73.50', '7.60/7.60',\n",
       "       '7.70/7.70', '70.20/70.20', '66.00/66.00', '60.00/60.00',\n",
       "       '94.00/94.00', '74.44/74.44', '8.60/8.60', '76.83/76.83',\n",
       "       '79.68/79.68', '85.00/85.00', '6.66/6.66', '6.60/6.60',\n",
       "       '69.56/69.56', '81.60/81.60', '68.00/68.00', '63.50/63.50',\n",
       "       '7.00/7.00', '76.50/76.50', '60.71/60.71', '76.71/76.71',\n",
       "       '83.20/83.20', '95.00/95.00', '71.00/71.00', '81.92/81.92',\n",
       "       '78.33/78.33', '78.00/78.00', '93.60/93.60', '74.00/74.00'],\n",
       "      dtype=object)"
      ]
     },
     "execution_count": 19,
     "metadata": {},
     "output_type": "execute_result"
    }
   ],
   "source": [
    "data[\"Performance_10\"].unique()"
   ]
  },
  {
   "cell_type": "code",
   "execution_count": 20,
   "metadata": {},
   "outputs": [],
   "source": [
    "data[\"Performance_10\"].fillna(\"0/0\",inplace=True)\n",
    "data[\"Performance_10_percentage\"]=data[\"Performance_10\"].str.split(\"/\",expand=True)[0]\n",
    "\n",
    "data[\"Performance_10_percentage\"]=data[\"Performance_10_percentage\"].astype(str)\n",
    "\n",
    "data[\"Performance_10_percentage\"]=data[\"Performance_10_percentage\"].apply( lambda x: x.replace('.',('')))\n",
    "\n",
    "q=[]\n",
    "for i in data[\"Performance_10_percentage\"]:\n",
    "    q.append(i[:2]+\".\"+i[2:])"
   ]
  },
  {
   "cell_type": "code",
   "execution_count": 21,
   "metadata": {},
   "outputs": [],
   "source": [
    "data.drop([\"Performance_10\",\"Performance_10_percentage\"],axis=1,inplace=True)"
   ]
  },
  {
   "cell_type": "code",
   "execution_count": 22,
   "metadata": {},
   "outputs": [],
   "source": [
    "new1=pd.DataFrame(q)\n",
    "data=pd.concat([data,new1],axis=1)\n",
    "data=data.rename(columns={0:\"Performance_10_percentage1\"})\n",
    "\n",
    "\n",
    "data[\"Performance_10_percentage1\"]=data[\"Performance_10_percentage1\"].astype(float)"
   ]
  },
  {
   "cell_type": "markdown",
   "metadata": {},
   "source": [
    "#### working on Degree column"
   ]
  },
  {
   "cell_type": "code",
   "execution_count": 23,
   "metadata": {},
   "outputs": [],
   "source": [
    "data[\"Degree\"]=data[\"Degree\"].astype(\"str\")"
   ]
  },
  {
   "cell_type": "code",
   "execution_count": 24,
   "metadata": {},
   "outputs": [],
   "source": [
    "data[\"Degree1\"]=data[\"Degree\"].str.strip().apply(lambda x: x.split(\" \")[0])"
   ]
  },
  {
   "cell_type": "code",
   "execution_count": 25,
   "metadata": {},
   "outputs": [
    {
     "data": {
      "text/plain": [
       "array(['Bachelor', 'Master', 'nan', 'PG', 'Post', 'Executive', 'MBA',\n",
       "       'B.Tech', 'Integrated', 'B.Com.'], dtype=object)"
      ]
     },
     "execution_count": 25,
     "metadata": {},
     "output_type": "execute_result"
    }
   ],
   "source": [
    "data[\"Degree1\"].unique()"
   ]
  },
  {
   "cell_type": "code",
   "execution_count": 26,
   "metadata": {},
   "outputs": [],
   "source": [
    "data[\"Degree1\"]=data[\"Degree1\"].apply(lambda x:x.replace((\"PG\"),(\"Master\")))\n",
    "data[\"Degree1\"]=data[\"Degree1\"].apply(lambda x:x.replace((\"Post\"),(\"Master\")))\n",
    "data[\"Degree1\"]=data[\"Degree1\"].apply(lambda x:x.replace((\"Executive\"),(\"Master\")))\n",
    "data[\"Degree1\"]=data[\"Degree1\"].apply(lambda x:x.replace((\"MBA\"),(\"Master\")))\n",
    "data[\"Degree1\"]=data[\"Degree1\"].apply(lambda x:x.replace((\"Integrated\"),(\"Master\")))\n",
    "\n",
    "data[\"Degree1\"]=data[\"Degree1\"].apply(lambda x:x.replace((\"B.Tech\"),(\"Bachelor\")))\n",
    "data[\"Degree1\"]=data[\"Degree1\"].apply(lambda x:x.replace((\"B.Com.\"),(\"Bachelor\")))"
   ]
  },
  {
   "cell_type": "code",
   "execution_count": 27,
   "metadata": {},
   "outputs": [
    {
     "data": {
      "text/plain": [
       "array(['Bachelor', 'Master', 'nan'], dtype=object)"
      ]
     },
     "execution_count": 27,
     "metadata": {},
     "output_type": "execute_result"
    }
   ],
   "source": [
    "data[\"Degree1\"].unique()"
   ]
  },
  {
   "cell_type": "code",
   "execution_count": 28,
   "metadata": {},
   "outputs": [],
   "source": [
    "data.drop([\"Degree\"],axis=1,inplace=True)"
   ]
  },
  {
   "cell_type": "code",
   "execution_count": 29,
   "metadata": {},
   "outputs": [],
   "source": [
    "from sklearn import preprocessing \n",
    "label_encoder = preprocessing.LabelEncoder() \n",
    "data['Degree1']= label_encoder.fit_transform(data['Degree1']) "
   ]
  },
  {
   "cell_type": "code",
   "execution_count": null,
   "metadata": {},
   "outputs": [],
   "source": []
  },
  {
   "cell_type": "markdown",
   "metadata": {},
   "source": [
    "### working on Stream Column "
   ]
  },
  {
   "cell_type": "code",
   "execution_count": 30,
   "metadata": {},
   "outputs": [
    {
     "data": {
      "text/html": [
       "<div>\n",
       "<style scoped>\n",
       "    .dataframe tbody tr th:only-of-type {\n",
       "        vertical-align: middle;\n",
       "    }\n",
       "\n",
       "    .dataframe tbody tr th {\n",
       "        vertical-align: top;\n",
       "    }\n",
       "\n",
       "    .dataframe thead th {\n",
       "        text-align: right;\n",
       "    }\n",
       "</style>\n",
       "<table border=\"1\" class=\"dataframe\">\n",
       "  <thead>\n",
       "    <tr style=\"text-align: right;\">\n",
       "      <th></th>\n",
       "      <th>['stream']_Advance Diploma In Big Data Analytics</th>\n",
       "      <th>['stream']_Advanced Big Data Analytics</th>\n",
       "      <th>['stream']_Advanced Pg Diploma In Artificial Intelligence</th>\n",
       "      <th>['stream']_Aerospace Engineering</th>\n",
       "      <th>['stream']_Artificial Intelligence</th>\n",
       "      <th>['stream']_Artificial Intelligence And Machine Learning</th>\n",
       "      <th>['stream']_Big Data Analytics</th>\n",
       "      <th>['stream']_Biological sciences and bioengineering</th>\n",
       "      <th>['stream']_Biotechnology</th>\n",
       "      <th>['stream']_Business Analytics</th>\n",
       "      <th>...</th>\n",
       "      <th>['stream']_Remote Sensing And Wireless Sensor</th>\n",
       "      <th>['stream']_Science</th>\n",
       "      <th>['stream']_Sensor Systems Technology</th>\n",
       "      <th>['stream']_Software  Systems</th>\n",
       "      <th>['stream']_Software Engineering</th>\n",
       "      <th>['stream']_Software Systems</th>\n",
       "      <th>['stream']_Statistics</th>\n",
       "      <th>['stream']_Technology</th>\n",
       "      <th>['stream']_computer science</th>\n",
       "      <th>['stream']_cs</th>\n",
       "    </tr>\n",
       "  </thead>\n",
       "  <tbody>\n",
       "    <tr>\n",
       "      <th>0</th>\n",
       "      <td>0</td>\n",
       "      <td>0</td>\n",
       "      <td>0</td>\n",
       "      <td>0</td>\n",
       "      <td>0</td>\n",
       "      <td>0</td>\n",
       "      <td>0</td>\n",
       "      <td>0</td>\n",
       "      <td>0</td>\n",
       "      <td>0</td>\n",
       "      <td>...</td>\n",
       "      <td>0</td>\n",
       "      <td>0</td>\n",
       "      <td>0</td>\n",
       "      <td>0</td>\n",
       "      <td>0</td>\n",
       "      <td>0</td>\n",
       "      <td>0</td>\n",
       "      <td>0</td>\n",
       "      <td>0</td>\n",
       "      <td>0</td>\n",
       "    </tr>\n",
       "    <tr>\n",
       "      <th>1</th>\n",
       "      <td>0</td>\n",
       "      <td>0</td>\n",
       "      <td>0</td>\n",
       "      <td>0</td>\n",
       "      <td>0</td>\n",
       "      <td>0</td>\n",
       "      <td>0</td>\n",
       "      <td>0</td>\n",
       "      <td>0</td>\n",
       "      <td>0</td>\n",
       "      <td>...</td>\n",
       "      <td>0</td>\n",
       "      <td>0</td>\n",
       "      <td>0</td>\n",
       "      <td>0</td>\n",
       "      <td>0</td>\n",
       "      <td>0</td>\n",
       "      <td>0</td>\n",
       "      <td>0</td>\n",
       "      <td>0</td>\n",
       "      <td>0</td>\n",
       "    </tr>\n",
       "    <tr>\n",
       "      <th>2</th>\n",
       "      <td>0</td>\n",
       "      <td>0</td>\n",
       "      <td>0</td>\n",
       "      <td>0</td>\n",
       "      <td>0</td>\n",
       "      <td>0</td>\n",
       "      <td>0</td>\n",
       "      <td>0</td>\n",
       "      <td>0</td>\n",
       "      <td>0</td>\n",
       "      <td>...</td>\n",
       "      <td>0</td>\n",
       "      <td>0</td>\n",
       "      <td>0</td>\n",
       "      <td>0</td>\n",
       "      <td>0</td>\n",
       "      <td>0</td>\n",
       "      <td>0</td>\n",
       "      <td>0</td>\n",
       "      <td>0</td>\n",
       "      <td>0</td>\n",
       "    </tr>\n",
       "    <tr>\n",
       "      <th>3</th>\n",
       "      <td>0</td>\n",
       "      <td>0</td>\n",
       "      <td>0</td>\n",
       "      <td>0</td>\n",
       "      <td>0</td>\n",
       "      <td>0</td>\n",
       "      <td>0</td>\n",
       "      <td>0</td>\n",
       "      <td>0</td>\n",
       "      <td>0</td>\n",
       "      <td>...</td>\n",
       "      <td>0</td>\n",
       "      <td>0</td>\n",
       "      <td>0</td>\n",
       "      <td>0</td>\n",
       "      <td>0</td>\n",
       "      <td>0</td>\n",
       "      <td>0</td>\n",
       "      <td>0</td>\n",
       "      <td>0</td>\n",
       "      <td>0</td>\n",
       "    </tr>\n",
       "    <tr>\n",
       "      <th>4</th>\n",
       "      <td>0</td>\n",
       "      <td>0</td>\n",
       "      <td>0</td>\n",
       "      <td>0</td>\n",
       "      <td>0</td>\n",
       "      <td>0</td>\n",
       "      <td>0</td>\n",
       "      <td>0</td>\n",
       "      <td>0</td>\n",
       "      <td>0</td>\n",
       "      <td>...</td>\n",
       "      <td>0</td>\n",
       "      <td>0</td>\n",
       "      <td>0</td>\n",
       "      <td>0</td>\n",
       "      <td>0</td>\n",
       "      <td>0</td>\n",
       "      <td>0</td>\n",
       "      <td>0</td>\n",
       "      <td>0</td>\n",
       "      <td>0</td>\n",
       "    </tr>\n",
       "  </tbody>\n",
       "</table>\n",
       "<p>5 rows × 78 columns</p>\n",
       "</div>"
      ],
      "text/plain": [
       "   ['stream']_Advance Diploma In Big Data Analytics  \\\n",
       "0                                                 0   \n",
       "1                                                 0   \n",
       "2                                                 0   \n",
       "3                                                 0   \n",
       "4                                                 0   \n",
       "\n",
       "   ['stream']_Advanced Big Data Analytics  \\\n",
       "0                                       0   \n",
       "1                                       0   \n",
       "2                                       0   \n",
       "3                                       0   \n",
       "4                                       0   \n",
       "\n",
       "   ['stream']_Advanced Pg Diploma In Artificial Intelligence  \\\n",
       "0                                                  0           \n",
       "1                                                  0           \n",
       "2                                                  0           \n",
       "3                                                  0           \n",
       "4                                                  0           \n",
       "\n",
       "   ['stream']_Aerospace Engineering  ['stream']_Artificial Intelligence  \\\n",
       "0                                 0                                   0   \n",
       "1                                 0                                   0   \n",
       "2                                 0                                   0   \n",
       "3                                 0                                   0   \n",
       "4                                 0                                   0   \n",
       "\n",
       "   ['stream']_Artificial Intelligence And Machine Learning  \\\n",
       "0                                                  0         \n",
       "1                                                  0         \n",
       "2                                                  0         \n",
       "3                                                  0         \n",
       "4                                                  0         \n",
       "\n",
       "   ['stream']_Big Data Analytics  \\\n",
       "0                              0   \n",
       "1                              0   \n",
       "2                              0   \n",
       "3                              0   \n",
       "4                              0   \n",
       "\n",
       "   ['stream']_Biological sciences and bioengineering  \\\n",
       "0                                                  0   \n",
       "1                                                  0   \n",
       "2                                                  0   \n",
       "3                                                  0   \n",
       "4                                                  0   \n",
       "\n",
       "   ['stream']_Biotechnology  ['stream']_Business Analytics  ...  \\\n",
       "0                         0                              0  ...   \n",
       "1                         0                              0  ...   \n",
       "2                         0                              0  ...   \n",
       "3                         0                              0  ...   \n",
       "4                         0                              0  ...   \n",
       "\n",
       "   ['stream']_Remote Sensing And Wireless Sensor  ['stream']_Science  \\\n",
       "0                                              0                   0   \n",
       "1                                              0                   0   \n",
       "2                                              0                   0   \n",
       "3                                              0                   0   \n",
       "4                                              0                   0   \n",
       "\n",
       "   ['stream']_Sensor Systems Technology  ['stream']_Software  Systems  \\\n",
       "0                                     0                             0   \n",
       "1                                     0                             0   \n",
       "2                                     0                             0   \n",
       "3                                     0                             0   \n",
       "4                                     0                             0   \n",
       "\n",
       "   ['stream']_Software Engineering  ['stream']_Software Systems  \\\n",
       "0                                0                            0   \n",
       "1                                0                            0   \n",
       "2                                0                            0   \n",
       "3                                0                            0   \n",
       "4                                0                            0   \n",
       "\n",
       "   ['stream']_Statistics  ['stream']_Technology  ['stream']_computer science  \\\n",
       "0                      0                      0                            0   \n",
       "1                      0                      0                            0   \n",
       "2                      0                      0                            0   \n",
       "3                      0                      0                            0   \n",
       "4                      0                      0                            0   \n",
       "\n",
       "   ['stream']_cs  \n",
       "0              0  \n",
       "1              0  \n",
       "2              0  \n",
       "3              0  \n",
       "4              0  \n",
       "\n",
       "[5 rows x 78 columns]"
      ]
     },
     "execution_count": 30,
     "metadata": {},
     "output_type": "execute_result"
    }
   ],
   "source": [
    "x=pd.get_dummies(data[\"Stream\"],prefix=[\"stream\"])\n",
    "x.head()"
   ]
  },
  {
   "cell_type": "code",
   "execution_count": 31,
   "metadata": {},
   "outputs": [],
   "source": [
    "data = pd.concat([data,x],axis=1)\n",
    "data.drop([\"Stream\"],axis=1,inplace=True)"
   ]
  },
  {
   "cell_type": "markdown",
   "metadata": {},
   "source": [
    "##### working on Other skills columns"
   ]
  },
  {
   "cell_type": "code",
   "execution_count": 32,
   "metadata": {},
   "outputs": [],
   "source": [
    "d=data[\"Other skills\"].str.get_dummies(sep=',')"
   ]
  },
  {
   "cell_type": "code",
   "execution_count": 33,
   "metadata": {},
   "outputs": [],
   "source": [
    "data = pd.concat([data,d],axis=1)"
   ]
  },
  {
   "cell_type": "code",
   "execution_count": 34,
   "metadata": {},
   "outputs": [
    {
     "data": {
      "text/plain": [
       "(392, 308)"
      ]
     },
     "execution_count": 34,
     "metadata": {},
     "output_type": "execute_result"
    }
   ],
   "source": [
    "data.shape"
   ]
  },
  {
   "cell_type": "code",
   "execution_count": 35,
   "metadata": {},
   "outputs": [],
   "source": [
    "data.drop([\"Other skills\"],axis=1,inplace=True)"
   ]
  },
  {
   "cell_type": "code",
   "execution_count": 36,
   "metadata": {},
   "outputs": [
    {
     "data": {
      "text/plain": [
       "(392, 307)"
      ]
     },
     "execution_count": 36,
     "metadata": {},
     "output_type": "execute_result"
    }
   ],
   "source": [
    "data.shape"
   ]
  },
  {
   "cell_type": "markdown",
   "metadata": {},
   "source": [
    "### working on Current City\n"
   ]
  },
  {
   "cell_type": "code",
   "execution_count": 37,
   "metadata": {},
   "outputs": [],
   "source": [
    "a=pd.get_dummies(data[\"Current City\"],prefix=[\"city\"])"
   ]
  },
  {
   "cell_type": "code",
   "execution_count": 38,
   "metadata": {},
   "outputs": [],
   "source": [
    "data =pd.concat([data,a],axis=1)"
   ]
  },
  {
   "cell_type": "code",
   "execution_count": 39,
   "metadata": {},
   "outputs": [],
   "source": [
    "data.drop([\"Current City\"],axis=1,inplace=True)"
   ]
  },
  {
   "cell_type": "code",
   "execution_count": null,
   "metadata": {},
   "outputs": [],
   "source": []
  },
  {
   "cell_type": "code",
   "execution_count": 40,
   "metadata": {},
   "outputs": [],
   "source": [
    "data.drop([\"Unnamed: 10\"],axis=1,inplace=True)"
   ]
  },
  {
   "cell_type": "markdown",
   "metadata": {},
   "source": [
    "#### Application_ID"
   ]
  },
  {
   "cell_type": "code",
   "execution_count": 41,
   "metadata": {},
   "outputs": [],
   "source": [
    "\n",
    "data[\"Application_ID\"]=data[\"Application_ID\"].apply(lambda x:x.replace((\"ML\"),(\"\")))"
   ]
  },
  {
   "cell_type": "code",
   "execution_count": null,
   "metadata": {},
   "outputs": [],
   "source": []
  },
  {
   "cell_type": "markdown",
   "metadata": {},
   "source": [
    "### handling missing value "
   ]
  },
  {
   "cell_type": "code",
   "execution_count": 56,
   "metadata": {},
   "outputs": [
    {
     "data": {
      "text/plain": [
       "Application_ID              43\n",
       "Python (out of 3)           43\n",
       "R Programming (out of 3)    43\n",
       "Deep Learning (out of 3)    43\n",
       "PHP (out of 3)              43\n",
       "                            ..\n",
       "['city']_Varanasi           43\n",
       "['city']_Vasco Da Gama      43\n",
       "['city']_Vellore            43\n",
       "['city']_Visakhapatnam      43\n",
       "['city']_Walajapet          43\n",
       "Length: 368, dtype: int64"
      ]
     },
     "execution_count": 56,
     "metadata": {},
     "output_type": "execute_result"
    }
   ],
   "source": [
    "data[(data[\"Performance_10_percentage1\"]==0.00) & (data[\"Performance_12_percentage1\"]==0.00)&(data[\"Performance_UG_percentage\"]==0.00)].count()"
   ]
  },
  {
   "cell_type": "code",
   "execution_count": 59,
   "metadata": {},
   "outputs": [
    {
     "data": {
      "text/plain": [
       "Application_ID              106\n",
       "Python (out of 3)           106\n",
       "R Programming (out of 3)    106\n",
       "Deep Learning (out of 3)    106\n",
       "PHP (out of 3)              106\n",
       "                           ... \n",
       "['city']_Varanasi           106\n",
       "['city']_Vasco Da Gama      106\n",
       "['city']_Vellore            106\n",
       "['city']_Visakhapatnam      106\n",
       "['city']_Walajapet          106\n",
       "Length: 368, dtype: int64"
      ]
     },
     "execution_count": 59,
     "metadata": {},
     "output_type": "execute_result"
    }
   ],
   "source": [
    "data[(data[\"Performance_10_percentage1\"]== 0.00) & (data[\"Degree1\"]== 0)].count()"
   ]
  },
  {
   "cell_type": "code",
   "execution_count": null,
   "metadata": {},
   "outputs": [],
   "source": []
  },
  {
   "cell_type": "markdown",
   "metadata": {},
   "source": [
    "#### Performance_10_percentage1"
   ]
  },
  {
   "cell_type": "code",
   "execution_count": 63,
   "metadata": {},
   "outputs": [],
   "source": [
    "data[data[\"Performance_10_percentage1\"]==0.00]=data[\"Performance_10_percentage1\"].mean()\n",
    "# mean of the performance of 10"
   ]
  },
  {
   "cell_type": "markdown",
   "metadata": {},
   "source": [
    "#### Performance_12_percentage1"
   ]
  },
  {
   "cell_type": "code",
   "execution_count": 64,
   "metadata": {},
   "outputs": [],
   "source": [
    "data[data[\"Performance_12_percentage1\"]==0.00]=data[\"Performance_12_percentage1\"].mean()\n",
    "# mean of the performance of 12"
   ]
  },
  {
   "cell_type": "markdown",
   "metadata": {},
   "source": [
    "#### Performance_UG_percentage"
   ]
  },
  {
   "cell_type": "code",
   "execution_count": 89,
   "metadata": {},
   "outputs": [],
   "source": [
    "data[(data[\"Performance_UG_percentage\"]==0.00)] = round(data[data[\"Degree1\"]==0.00][\"Performance_UG_percentage\"].mean(),ndigits=2)\n",
    "\n",
    "#mean of the performance of bachelor students"
   ]
  },
  {
   "cell_type": "code",
   "execution_count": 91,
   "metadata": {},
   "outputs": [
    {
     "data": {
      "text/plain": [
       "Application_ID              0\n",
       "Python (out of 3)           0\n",
       "R Programming (out of 3)    0\n",
       "Deep Learning (out of 3)    0\n",
       "PHP (out of 3)              0\n",
       "                           ..\n",
       "['city']_Varanasi           0\n",
       "['city']_Vasco Da Gama      0\n",
       "['city']_Vellore            0\n",
       "['city']_Visakhapatnam      0\n",
       "['city']_Walajapet          0\n",
       "Length: 368, dtype: int64"
      ]
     },
     "execution_count": 91,
     "metadata": {},
     "output_type": "execute_result"
    }
   ],
   "source": [
    "data[(data[\"Performance_UG_percentage\"]==0.00)].count()"
   ]
  },
  {
   "cell_type": "code",
   "execution_count": 93,
   "metadata": {},
   "outputs": [
    {
     "data": {
      "text/plain": [
       "Application_ID              0\n",
       "Python (out of 3)           0\n",
       "R Programming (out of 3)    0\n",
       "Deep Learning (out of 3)    0\n",
       "PHP (out of 3)              0\n",
       "                           ..\n",
       "['city']_Varanasi           0\n",
       "['city']_Vasco Da Gama      0\n",
       "['city']_Vellore            0\n",
       "['city']_Visakhapatnam      0\n",
       "['city']_Walajapet          0\n",
       "Length: 368, dtype: int64"
      ]
     },
     "execution_count": 93,
     "metadata": {},
     "output_type": "execute_result"
    }
   ],
   "source": [
    "data.isnull().sum()"
   ]
  },
  {
   "cell_type": "code",
   "execution_count": null,
   "metadata": {},
   "outputs": [],
   "source": []
  },
  {
   "cell_type": "code",
   "execution_count": null,
   "metadata": {},
   "outputs": [],
   "source": []
  },
  {
   "cell_type": "code",
   "execution_count": 42,
   "metadata": {},
   "outputs": [],
   "source": [
    "from sklearn.cluster import KMeans"
   ]
  },
  {
   "cell_type": "code",
   "execution_count": 43,
   "metadata": {},
   "outputs": [],
   "source": [
    "X=data.copy()\n",
    "X=X.drop([\"Degree1\"],axis=1)\n",
    "X=X.values"
   ]
  },
  {
   "cell_type": "code",
   "execution_count": 44,
   "metadata": {},
   "outputs": [],
   "source": [
    "km = KMeans(n_clusters=2)\n",
    "y_Kmeans = km.fit_predict(X)"
   ]
  },
  {
   "cell_type": "code",
   "execution_count": 94,
   "metadata": {},
   "outputs": [
    {
     "data": {
      "text/plain": [
       "<matplotlib.collections.PathCollection at 0x1f0c2013208>"
      ]
     },
     "execution_count": 94,
     "metadata": {},
     "output_type": "execute_result"
    },
    {
     "data": {
      "image/png": "[encoded data removed]",
      "text/plain": [
       "<Figure size 432x288 with 1 Axes>"
      ]
     },
     "metadata": {
      "needs_background": "light"
     },
     "output_type": "display_data"
    }
   ],
   "source": [
    "import matplotlib.pyplot as plt\n",
    "\n",
    "plt.scatter(X[y_Kmeans == 0,0],X[y_Kmeans == 0,1], s=196,c = 'red', label = 'Cluster 1')\n",
    "\n",
    "plt.scatter(X[y_Kmeans ==1,0],X[y_Kmeans == 1,1], s =196, c= 'blue',label = 'Cluster 2')\n"
   ]
  },
  {
   "cell_type": "code",
   "execution_count": null,
   "metadata": {},
   "outputs": [],
   "source": []
  },
  {
   "cell_type": "code",
   "execution_count": null,
   "metadata": {},
   "outputs": [],
   "source": [
    "# alternative method way is to create target the columns for the data   \n",
    "       # by skills acquired by the candiadtaes  \n",
    "# if the candiates accquire the skills like python, datascience, machine leraning or AI we can \n",
    "      # set those target as DATA SCIENTIST and other As DEVELOPERS"
   ]
  },
  {
   "cell_type": "code",
   "execution_count": null,
   "metadata": {},
   "outputs": [],
   "source": []
  },
  {
   "cell_type": "code",
   "execution_count": null,
   "metadata": {},
   "outputs": [],
   "source": []
  },
  {
   "cell_type": "code",
   "execution_count": null,
   "metadata": {},
   "outputs": [],
   "source": []
  },
  {
   "cell_type": "code",
   "execution_count": null,
   "metadata": {},
   "outputs": [],
   "source": []
  },
  {
   "cell_type": "code",
   "execution_count": null,
   "metadata": {},
   "outputs": [],
   "source": []
  }
 ],
 "metadata": {
  "kernelspec": {
   "display_name": "Python 3",
   "language": "python",
   "name": "python3"
  },
  "language_info": {
   "codemirror_mode": {
    "name": "ipython",
    "version": 3
   },
   "file_extension": ".py",
   "mimetype": "text/x-python",
   "name": "python",
   "nbconvert_exporter": "python",
   "pygments_lexer": "ipython3",
   "version": "3.7.3"
  }
 },
 "nbformat": 4,
 "nbformat_minor": 2
}
